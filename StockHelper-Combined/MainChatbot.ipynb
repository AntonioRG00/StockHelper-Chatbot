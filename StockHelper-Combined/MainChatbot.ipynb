{
 "cells": [
  {
   "cell_type": "code",
   "execution_count": 16,
   "id": "e0ddb1e9",
   "metadata": {},
   "outputs": [],
   "source": [
    "#%pip install programy requests xmltodict"
   ]
  },
  {
   "cell_type": "code",
   "execution_count": 17,
   "id": "53dd6c6a",
   "metadata": {},
   "outputs": [],
   "source": [
    "from ModelClasses import MainFunctions\n",
    "from programy.clients.embed.datafile import EmbeddedDataFileBot\n",
    "\n",
    "chatbot = EmbeddedDataFileBot(files={'aiml':['aiml_files']}, defaults=True)\n",
    "apiKey = \"5e533b50-76f9-11ec-81c5-e1cdfa92f93cc2df084c-c789-49ac-8839-eddcc0d946d1\"\n",
    "apiUrlRead = \"https://machinelearningforkids.co.uk/api/scratch/\"+ apiKey + \"/classify\"\n",
    "apiUrlWrite = \"https://machinelearningforkids.co.uk/api/scratch/\"+ apiKey + \"/train\"\n",
    "mainFunctions = MainFunctions(apiUrlRead, apiUrlWrite)\n",
    "myClassifications = {\n",
    "    \"grafica_rendimiento\": [\"grafica_rendimiento\"],\n",
    "    \"grafica_calidad\": [\"grafica_calidad\"],\n",
    "    \"grafica_all\": [\"grafica_rendimiento\", \"grafica_calidad\"],\n",
    "    \"procesador_rendimiento\": [\"procesador_rendimiento\"],\n",
    "    \"procesador_calidad\": [\"procesador_calidad\"],\n",
    "    \"procesador_all\": [\"procesador_rendimiento\", \"procesador_calidad\"],\n",
    "    \"ram_rendimiento\": [\"ram_rendimiento\"],\n",
    "    \"ram_calidad\": [\"ram_calidad\"],\n",
    "    \"ram_all\": [\"ram_rendimiento\", \"ram_calidad\"],\n",
    "}"
   ]
  },
  {
   "cell_type": "code",
   "execution_count": null,
   "id": "444b0d90",
   "metadata": {},
   "outputs": [],
   "source": [
    "ml4kTematicasCatalogo = sorted(set([item for sublist in myClassifications.values() for item in sublist]))\n",
    "\n",
    "print(\"Saludos, soy un bot que te ayudará a encontrar los mejores componentes adaptados a tus necesidades\")\n",
    "print(\"Actualmente tenemos las siguientes temáticas en el catálogo:\")\n",
    "\n",
    "for tematica in ml4kTematicasCatalogo:\n",
    "    print(\"->\", mainFunctions.xmlToDict(chatbot.ask_question(tematica).rstrip(\".\"))[\"descripcion\"])\n",
    "\n",
    "while True:\n",
    "    print(\"-------------------------------------------------\")\n",
    "    texto = input(\"Dime en que estás interesado: \")\n",
    "    ml4kAnswer = mainFunctions.classify(texto)\n",
    "    \n",
    "    # Eso no dice nada sobre grafica all, procesador all, ram all\n",
    "    if(ml4kAnswer[\"confidence\"] < 60):\n",
    "        print(\"No he entendido lo que me quieres decir, pero puedo aprender de tí :)\")\n",
    "        print(\"Dime el número de la temática a la que te referías:\")\n",
    "        for i in range(len(ml4kTematicasCatalogo)):\n",
    "            print(\"->\", str(i+1) + \":\", mainFunctions.xmlToDict(chatbot.ask_question(ml4kTematicasCatalogo[i]).rstrip(\".\"))[\"descripcion\"])\n",
    "        print(\"->\", str(len(ml4kTematicasCatalogo)+1) + \":\", \"No lo sé o descartar pregunta\")\n",
    "        indexTematica = int(input(\"\"))-1\n",
    "        if indexTematica < len(ml4kTematicasCatalogo):\n",
    "            mainFunctions.store(texto, ml4kTematicasCatalogo[indexTematica])\n",
    "    \n",
    "    else:\n",
    "        print(\"Estoy al\", str(ml4kAnswer[\"confidence\"]) + \"%\" ,\"que quieres información sobre las siguientes categorías:\")\n",
    "        for categoria in myClassifications[ml4kAnswer[\"class_name\"]]:\n",
    "            print(\"->\", mainFunctions.xmlToDict(chatbot.ask_question(categoria).rstrip(\".\"))[\"descripcion\"])\n",
    "        arrCategoriasInteres = [mainFunctions.xmlToDict(chatbot.ask_question(x).rstrip(\".\")) for x in myClassifications[ml4kAnswer[\"class_name\"]]]\n",
    "        \n",
    "        print(\"\")\n",
    "        for categoria in arrCategoriasInteres:\n",
    "            print(categoria[\"texto\"], \":\")\n",
    "            for index, componente in enumerate(categoria[\"componentes\"]):\n",
    "                print(str(index+1) + \".\", componente)"
   ]
  }
 ],
 "metadata": {
  "kernelspec": {
   "display_name": "Python 3 (ipykernel)",
   "language": "python",
   "name": "python3"
  },
  "language_info": {
   "codemirror_mode": {
    "name": "ipython",
    "version": 3
   },
   "file_extension": ".py",
   "mimetype": "text/x-python",
   "name": "python",
   "nbconvert_exporter": "python",
   "pygments_lexer": "ipython3",
   "version": "3.8.0"
  }
 },
 "nbformat": 4,
 "nbformat_minor": 5
}
